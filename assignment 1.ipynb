{
 "cells": [
  {
   "cell_type": "markdown",
   "id": "34bb9aef",
   "metadata": {},
   "source": [
    "Ask the user to enter a number. Print out the Ask the user to enter a number. Print out the square of the number,\n",
    "Sample output is shown below.\n",
    "Enter a\n",
    "number: 5 The\n",
    "square of 5 is 25."
   ]
  },
  {
   "cell_type": "code",
   "execution_count": null,
   "id": "07c16c10",
   "metadata": {},
   "outputs": [],
   "source": []
  },
  {
   "cell_type": "code",
   "execution_count": null,
   "id": "c14f30db",
   "metadata": {},
   "outputs": [],
   "source": []
  },
  {
   "cell_type": "code",
   "execution_count": null,
   "id": "c20d47d4",
   "metadata": {},
   "outputs": [],
   "source": []
  },
  {
   "cell_type": "code",
   "execution_count": null,
   "id": "5da1e42c",
   "metadata": {},
   "outputs": [],
   "source": []
  },
  {
   "cell_type": "code",
   "execution_count": null,
   "id": "8e9193ac",
   "metadata": {},
   "outputs": [],
   "source": []
  },
  {
   "cell_type": "code",
   "execution_count": 12,
   "id": "bf423f9b",
   "metadata": {},
   "outputs": [
    {
     "name": "stdout",
     "output_type": "stream",
     "text": [
      "enter a number:7\n",
      "the square of the number:49\n"
     ]
    }
   ],
   "source": [
    "user=eval(input(\"enter a number:\"))\n",
    "square==(user*user)\n",
    "print(f\"the square of the number:{square}\")         "
   ]
  },
  {
   "cell_type": "code",
   "execution_count": null,
   "id": "7c65999a",
   "metadata": {},
   "outputs": [],
   "source": [
    "Ask the user to enter a number x. print out x, 2x, 3x, 4x, and 5x,\n",
    "each separated by three dashes, like below.\n",
    "Enter a number: 7\n",
    "7---14---21---28---35"
   ]
  },
  {
   "cell_type": "code",
   "execution_count": 2,
   "id": "a8028eb6",
   "metadata": {},
   "outputs": [
    {
     "name": "stdout",
     "output_type": "stream",
     "text": [
      "enter a number:3\n",
      "3---6---9---12---15\n"
     ]
    }
   ],
   "source": [
    "num=eval(input(\"enter a number:\"))\n",
    "x1=num\n",
    "x2=num*2\n",
    "x3=num*3\n",
    "x4=num*4\n",
    "x5=num*5\n",
    "print(f\"{x1}---{x2}---{x3}---{x4}---{x5}\")"
   ]
  },
  {
   "cell_type": "code",
   "execution_count": null,
   "id": "49aa345a",
   "metadata": {},
   "outputs": [],
   "source": [
    "Write a program that asks the user for a weight in kilograms and\n",
    "converts it to pounds. There are 2.2 pounds in a kilogram."
   ]
  },
  {
   "cell_type": "code",
   "execution_count": 2,
   "id": "3ccd17a7",
   "metadata": {},
   "outputs": [
    {
     "name": "stdout",
     "output_type": "stream",
     "text": [
      "what is your laptop weight in kg:2\n",
      "your laptop weight in pounds: 4.4pounds\n"
     ]
    }
   ],
   "source": [
    "user=eval(input(\"what is your laptop weight in kg:\"))\n",
    "pound= 2.2\n",
    "num=user*pound\n",
    "print(f\"your laptop weight in pounds: {num}pounds\")"
   ]
  },
  {
   "cell_type": "code",
   "execution_count": null,
   "id": "31e38941",
   "metadata": {},
   "outputs": [],
   "source": [
    "Write a program that asks the user to enter three numbers (use three\n",
    "separate input statements).Create variables called total and average\n",
    "that hold the sum and average of the three numbers and print out the\n",
    "values of total and average."
   ]
  },
  {
   "cell_type": "code",
   "execution_count": 11,
   "id": "5a1b13a9",
   "metadata": {},
   "outputs": [
    {
     "name": "stdout",
     "output_type": "stream",
     "text": [
      "enter first number 1:1\n",
      "enter second number 2:2\n",
      "enter thiread number 3:3\n",
      "number of total: 6\n",
      "average of three number: 2.0\n"
     ]
    }
   ],
   "source": [
    "number1=eval(input(\"enter first number 1:\"))\n",
    "number2=eval(input(\"enter second number 2:\"))\n",
    "number3=eval(input(\"enter thiread number 3:\"))\n",
    "total=number1+number2+number3\n",
    "print(f\"number of total: {num}\")\n",
    "ave=total/3\n",
    "print(f\"average of three number: {ave}\")"
   ]
  },
  {
   "cell_type": "code",
   "execution_count": null,
   "id": "5b649a1e",
   "metadata": {},
   "outputs": [],
   "source": [
    "A lot of cell phones have tip calculators. Write one. Ask the user for\n",
    "the price of the meal and the percent tip they want to leave. Then\n",
    "print both the tip amount and the total bill with the tip included."
   ]
  },
  {
   "cell_type": "code",
   "execution_count": 16,
   "id": "741b5d98",
   "metadata": {},
   "outputs": [
    {
     "name": "stdout",
     "output_type": "stream",
     "text": [
      "Enter the food price: 50\n",
      "What percentage of food price tips to give:10\n",
      "total amount incoluding with tip:55.0\n"
     ]
    }
   ],
   "source": [
    "food=eval(input(\"Enter the food price: \"))\n",
    "tip=eval(input(\"What percentage of food price tips to give:\"))\n",
    "total=food*tip/100\n",
    "amount=total+food\n",
    "print(f\"total amount incoluding with tip:{amount}\")\n"
   ]
  },
  {
   "cell_type": "code",
   "execution_count": null,
   "id": "573a2a48",
   "metadata": {},
   "outputs": [],
   "source": []
  },
  {
   "cell_type": "code",
   "execution_count": null,
   "id": "7e237b99",
   "metadata": {},
   "outputs": [],
   "source": []
  },
  {
   "cell_type": "code",
   "execution_count": 1,
   "id": "26a2e35a",
   "metadata": {},
   "outputs": [
    {
     "name": "stdout",
     "output_type": "stream",
     "text": [
      "1Father: hey Baby !\n",
      "2Daughter: Hello dady\n",
      "3Father: I heard your exams are over, what about result\n",
      "4Dauther: Yes dad ! Results are out\n",
      "5Father: What is the percentage\n",
      "6Daughter: I will give my subject wise mark , ypu tell me the percentage\n",
      "Father:Okay\n",
      "First language number:1\n",
      "Second language number:1\n",
      "Third language number:1\n",
      "Maths number:1\n",
      "Scienc number:1\n",
      "Daughter:Dad now tell me how much percentage I got\n",
      "Father:Tell me the max marks of each subject\n",
      "Daughter: its 100\n",
      "total marks of percentage : 1.0%|\n"
     ]
    }
   ],
   "source": [
    "print('1Father: hey Baby !')\n",
    "print('2Daughter: Hello dady')\n",
    "print('3Father: I heard your exams are over, what about result')\n",
    "print('4Dauther: Yes dad ! Results are out')\n",
    "print('5Father: What is the percentage')\n",
    "print('6Daughter: I will give my subject wise mark , ypu tell me the percentage')\n",
    "print('Father:Okay')\n",
    "Frist=eval(input(\"First language number:\"))\n",
    "Second=eval(input(\"Second language number:\"))\n",
    "Third=eval(input(\"Third language number:\"))\n",
    "Maths=eval(input(\"Maths number:\"))\n",
    "Scienc=eval(input(\"Scienc number:\"))\n",
    "print('Daughter:Dad now tell me how much percentage I got')\n",
    "print('Father:Tell me the max marks of each subject')\n",
    "print('Daughter: its 100')\n",
    "num=Frist+Second+Third+Maths+Scienc\n",
    "total=(num*100)/500\n",
    "print(f\"total marks of percentage : {total}%|\")"
   ]
  },
  {
   "cell_type": "markdown",
   "id": "6d1a8d21",
   "metadata": {},
   "source": []
  },
  {
   "cell_type": "code",
   "execution_count": null,
   "id": "540de7b0",
   "metadata": {},
   "outputs": [],
   "source": [
    "=============================================================="
   ]
  },
  {
   "cell_type": "code",
   "execution_count": null,
   "id": "199be0e2",
   "metadata": {},
   "outputs": [],
   "source": []
  },
  {
   "cell_type": "code",
   "execution_count": 20,
   "id": "bbbfb53b",
   "metadata": {},
   "outputs": [],
   "source": []
  },
  {
   "cell_type": "code",
   "execution_count": null,
   "id": "358deb8c",
   "metadata": {},
   "outputs": [],
   "source": []
  },
  {
   "cell_type": "code",
   "execution_count": null,
   "id": "60098dfd",
   "metadata": {},
   "outputs": [],
   "source": []
  },
  {
   "cell_type": "code",
   "execution_count": null,
   "id": "0f860729",
   "metadata": {},
   "outputs": [],
   "source": []
  },
  {
   "cell_type": "code",
   "execution_count": null,
   "id": "d4e284c7",
   "metadata": {},
   "outputs": [],
   "source": []
  },
  {
   "cell_type": "code",
   "execution_count": null,
   "id": "f705ec3b",
   "metadata": {},
   "outputs": [],
   "source": []
  },
  {
   "cell_type": "code",
   "execution_count": null,
   "id": "52c0e596",
   "metadata": {},
   "outputs": [],
   "source": []
  },
  {
   "cell_type": "code",
   "execution_count": null,
   "id": "d1a2d137",
   "metadata": {},
   "outputs": [],
   "source": []
  }
 ],
 "metadata": {
  "kernelspec": {
   "display_name": "Python 3 (ipykernel)",
   "language": "python",
   "name": "python3"
  },
  "language_info": {
   "codemirror_mode": {
    "name": "ipython",
    "version": 3
   },
   "file_extension": ".py",
   "mimetype": "text/x-python",
   "name": "python",
   "nbconvert_exporter": "python",
   "pygments_lexer": "ipython3",
   "version": "3.11.5"
  }
 },
 "nbformat": 4,
 "nbformat_minor": 5
}
